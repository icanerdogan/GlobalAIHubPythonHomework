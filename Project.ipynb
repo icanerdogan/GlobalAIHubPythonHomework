{
 "cells": [
  {
   "cell_type": "markdown",
   "metadata": {},
   "source": [
    "### Right to Enter Name v Welcome"
   ]
  },
  {
   "cell_type": "code",
   "execution_count": 56,
   "metadata": {},
   "outputs": [
    {
     "name": "stdout",
     "output_type": "stream",
     "text": [
      "Your Right to Remain 3\n",
      "Enter Your Name: ibrahim\n",
      "Enter Your Surname: can\n",
      "-----------------------\n",
      "Welcome ibrahim can\n",
      "-----------------------\n"
     ]
    }
   ],
   "source": [
    "claim = 3\n",
    "while True:\n",
    "\n",
    "    print('Your Right to Remain', claim)\n",
    "    \n",
    "    name = input('Enter Your Name: ')\n",
    "    surname = input('Enter Your Surname: ')\n",
    "    \n",
    "    if claim == 0:\n",
    "        print('----------------------')\n",
    "        print('Please Try Again Later')\n",
    "        print('----------------------')\n",
    "        break\n",
    "    \n",
    "    if name == \"ibrahim\" and surname == \"can\":\n",
    "        print('-----------------------')\n",
    "        print(f\"Welcome {name} {surname}\")\n",
    "        print('-----------------------')\n",
    "        break\n",
    "    else:\n",
    "        claim -= 1"
   ]
  },
  {
   "cell_type": "markdown",
   "metadata": {},
   "source": [
    "### Course List"
   ]
  },
  {
   "cell_type": "code",
   "execution_count": 62,
   "metadata": {},
   "outputs": [
    {
     "name": "stdout",
     "output_type": "stream",
     "text": [
      "Enter the 1. course of your choice: a\n",
      "Enter the 2. course of your choice: b\n",
      "Enter the 3. course of your choice: c\n",
      "Enter the 4. course of your choice: d\n",
      "Enter the 5. course of your choice: e\n"
     ]
    }
   ],
   "source": [
    "lessonList = []\n",
    "\n",
    "for i in range(5):\n",
    "    \n",
    "    lesson = input(f\"Enter the {i+1}. course of your choice: \")\n",
    "    lessonList.append(lesson)"
   ]
  },
  {
   "cell_type": "markdown",
   "metadata": {},
   "source": [
    "### Chose Course"
   ]
  },
  {
   "cell_type": "code",
   "execution_count": 58,
   "metadata": {},
   "outputs": [
    {
     "name": "stdout",
     "output_type": "stream",
     "text": [
      "Enter the course of your choice:a\n",
      "-------------------------------\n",
      "Selected Course:  a\n",
      "-------------------------------\n"
     ]
    }
   ],
   "source": [
    "for lesson in lessonList:\n",
    "    chosedLesson = input(\"Enter the course of your choice:\")\n",
    "        \n",
    "    if lesson == chosedLesson:\n",
    "        print(\"-------------------------------\")\n",
    "        print(\"Selected Course: \", chosedLesson)\n",
    "        print(\"-------------------------------\")\n",
    "        break\n",
    "    else:\n",
    "        print(\"-------------------------------\")\n",
    "        print(\"Selected Course Not Found in Courses\")\n",
    "        print(\"Please Try Again\")\n",
    "        print(\"-------------------------------\")\n"
   ]
  },
  {
   "cell_type": "markdown",
   "metadata": {},
   "source": [
    "### Input Grade"
   ]
  },
  {
   "cell_type": "code",
   "execution_count": 59,
   "metadata": {},
   "outputs": [
    {
     "name": "stdout",
     "output_type": "stream",
     "text": [
      "-------------------------------\n",
      "Enter your midterm grade: 50\n",
      "-------------------------------\n",
      "Enter your final grade: 60\n",
      "-------------------------------\n",
      "Enter your project grade: 80\n",
      "-------------------------------\n"
     ]
    }
   ],
   "source": [
    "grades = {'midterm': 0, 'final': 0, 'project':0}\n",
    "\n",
    "print(\"-------------------------------\")\n",
    "midtermGrade = int(input('Enter your midterm grade: '))\n",
    "grades['midterm'] = midtermGrade\n",
    "\n",
    "print(\"-------------------------------\")\n",
    "finalGrade = int(input('Enter your final grade: '))\n",
    "grades['final'] = finalGrade\n",
    "\n",
    "print(\"-------------------------------\")\n",
    "projectGrade = int(input('Enter your project grade: '))\n",
    "grades['project'] = projectGrade\n",
    "print(\"-------------------------------\")"
   ]
  },
  {
   "cell_type": "markdown",
   "metadata": {},
   "source": [
    "###  Grade Score"
   ]
  },
  {
   "cell_type": "code",
   "execution_count": 60,
   "metadata": {},
   "outputs": [],
   "source": [
    "your_grade = grades['midterm'] * 3/10 + grades['final'] * 5/10 + grades['project'] * 2/10"
   ]
  },
  {
   "cell_type": "markdown",
   "metadata": {},
   "source": [
    "### Letter Grade"
   ]
  },
  {
   "cell_type": "code",
   "execution_count": 61,
   "metadata": {},
   "outputs": [
    {
     "name": "stdout",
     "output_type": "stream",
     "text": [
      "CC\n"
     ]
    }
   ],
   "source": [
    "if your_grade >= 90:\n",
    "    print(\"AA\")\n",
    "elif 90 > your_grade and your_grade >= 70:\n",
    "    print(\"BB\")\n",
    "elif 70 > your_grade and your_grade >= 50:\n",
    "    print(\"CC\")\n",
    "elif 50 > your_grade and your_grade >= 30:\n",
    "    print(\"DD\")\n",
    "elif 30 > your_grade:\n",
    "    print(\"FF\")\n",
    "    print(f'You failed the {chosedLesson} course')"
   ]
  }
 ],
 "metadata": {
  "kernelspec": {
   "display_name": "Python 3",
   "language": "python",
   "name": "python3"
  },
  "language_info": {
   "codemirror_mode": {
    "name": "ipython",
    "version": 3
   },
   "file_extension": ".py",
   "mimetype": "text/x-python",
   "name": "python",
   "nbconvert_exporter": "python",
   "pygments_lexer": "ipython3",
   "version": "3.7.9"
  }
 },
 "nbformat": 4,
 "nbformat_minor": 4
}
