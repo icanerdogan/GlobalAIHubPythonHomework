{
 "cells": [
  {
   "cell_type": "markdown",
   "metadata": {},
   "source": [
    "### Input "
   ]
  },
  {
   "cell_type": "code",
   "execution_count": 17,
   "metadata": {},
   "outputs": [
    {
     "name": "stdout",
     "output_type": "stream",
     "text": [
      "Name: İbrahim Can\n",
      "Surname: Erdoğan\n",
      "Age: 20\n",
      "Your School/Workplace Name: Balıkesir University\n",
      "Your Departmant Name: Industrial Engineering\n"
     ]
    }
   ],
   "source": [
    "input1 = input(\"Name: \")\n",
    "input2 = input(\"Surname: \")\n",
    "input3 = int(input(\"Age: \"))\n",
    "input4 = input(\"Your School/Workplace Name: \")\n",
    "input5 = input(\"Your Departmant Name: \")"
   ]
  },
  {
   "cell_type": "markdown",
   "metadata": {},
   "source": [
    "### Format - String"
   ]
  },
  {
   "cell_type": "code",
   "execution_count": 21,
   "metadata": {},
   "outputs": [
    {
     "name": "stdout",
     "output_type": "stream",
     "text": [
      "Your name İbrahim Can, last name Erdoğan and your age 20. Your job Balıkesir University and department you work in Industrial Engineering\n"
     ]
    }
   ],
   "source": [
    "text1 = \"Your name {0}, last name {1} and your age {2}. Your job {3} and department you work in {4}\"\n",
    "\n",
    "text1 = text1.format(input1, input2, input3, input4, input5)\n",
    "\n",
    "print(text1)"
   ]
  },
  {
   "cell_type": "markdown",
   "metadata": {},
   "source": [
    "### F - String"
   ]
  },
  {
   "cell_type": "code",
   "execution_count": 22,
   "metadata": {},
   "outputs": [
    {
     "name": "stdout",
     "output_type": "stream",
     "text": [
      "Your name İbrahim Can, last name Erdoğan and your age 20. Your job 20 and department you work in Industrial Engineering\n"
     ]
    }
   ],
   "source": [
    "text2 = f'Your name {input1}, last name {input2} and your age {input3}. Your job {input3} and department you work in {input5}'\n",
    "\n",
    "print(text2)"
   ]
  },
  {
   "cell_type": "markdown",
   "metadata": {},
   "source": [
    "### Datatype"
   ]
  },
  {
   "cell_type": "code",
   "execution_count": 23,
   "metadata": {},
   "outputs": [
    {
     "name": "stdout",
     "output_type": "stream",
     "text": [
      "-------------------------------------------------------\n",
      "0. data \"İbrahim Can\" türü : <class 'str'>\n",
      "-------------------------------------------------------\n",
      "1. data \"Erdoğan\" türü : <class 'str'>\n",
      "-------------------------------------------------------\n",
      "2. data \"20\" türü : <class 'int'>\n",
      "-------------------------------------------------------\n",
      "3. data \"Balıkesir University\" türü : <class 'str'>\n",
      "-------------------------------------------------------\n",
      "4. data \"Industrial Engineering\" türü : <class 'str'>\n"
     ]
    }
   ],
   "source": [
    "dataList = [input1, input2, input3, input4, input5]\n",
    "\n",
    "for i in range(len(dataList)):\n",
    "    print(\"-------------------------------------------------------\")\n",
    "    print(f'{i}. data \"{dataList[i]}\" türü : {type(dataList[i])}')"
   ]
  }
 ],
 "metadata": {
  "kernelspec": {
   "display_name": "Python 3",
   "language": "python",
   "name": "python3"
  },
  "language_info": {
   "codemirror_mode": {
    "name": "ipython",
    "version": 3
   },
   "file_extension": ".py",
   "mimetype": "text/x-python",
   "name": "python",
   "nbconvert_exporter": "python",
   "pygments_lexer": "ipython3",
   "version": "3.7.9"
  }
 },
 "nbformat": 4,
 "nbformat_minor": 4
}
