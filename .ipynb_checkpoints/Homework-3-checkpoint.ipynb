{
 "cells": [
  {
   "cell_type": "markdown",
   "metadata": {},
   "source": [
    "### Input Name"
   ]
  },
  {
   "cell_type": "code",
   "execution_count": 53,
   "metadata": {},
   "outputs": [
    {
     "name": "stdout",
     "output_type": "stream",
     "text": [
      "What is your name? ibrahim\n"
     ]
    }
   ],
   "source": [
    "name = input(\"What is your name? \")"
   ]
  },
  {
   "cell_type": "markdown",
   "metadata": {},
   "source": [
    "### Welcome"
   ]
  },
  {
   "cell_type": "code",
   "execution_count": 54,
   "metadata": {},
   "outputs": [
    {
     "name": "stdout",
     "output_type": "stream",
     "text": [
      "------------- Welcome  ibrahim  -------------\n"
     ]
    }
   ],
   "source": [
    "print(\"------------- Welcome \",name, \" -------------\")"
   ]
  },
  {
   "cell_type": "code",
   "execution_count": 55,
   "metadata": {},
   "outputs": [
    {
     "name": "stdout",
     "output_type": "stream",
     "text": [
      "concept\n"
     ]
    }
   ],
   "source": [
    "import random\n",
    "\n",
    "wordList = ['lick','book','reduction','relief','material','concept','sell','debut','foundation','conceive','slave']\n",
    "\n",
    "max = len(wordList)\n",
    "\n",
    "rnd = random.randint(0, max - 1)\n",
    "\n",
    "wordToGuess = wordList[rnd]"
   ]
  },
  {
   "cell_type": "markdown",
   "metadata": {},
   "source": [
    "### Hangman"
   ]
  },
  {
   "cell_type": "code",
   "execution_count": 57,
   "metadata": {},
   "outputs": [
    {
     "name": "stdout",
     "output_type": "stream",
     "text": [
      "the number of letters to guess:  7\n",
      "----------------------------\n",
      "*\n",
      "*\n",
      "*\n",
      "*\n",
      "*\n",
      "*\n",
      "*\n",
      "----------------------------\n",
      "Enter the letter you guessed: a\n",
      "----------------------------\n",
      "Your remaining guesses 11\n",
      "----------------------------\n",
      "*\n",
      "*\n",
      "*\n",
      "*\n",
      "*\n",
      "*\n",
      "*\n",
      "----------------------------\n",
      "Enter the letter you guessed: c\n",
      "----------------------------\n",
      "c\n",
      "*\n",
      "*\n",
      "c\n",
      "*\n",
      "*\n",
      "*\n",
      "----------------------------\n",
      "Enter the letter you guessed: o\n",
      "----------------------------\n",
      "c\n",
      "o\n",
      "*\n",
      "c\n",
      "*\n",
      "*\n",
      "*\n",
      "----------------------------\n",
      "Enter the letter you guessed: n\n",
      "----------------------------\n",
      "c\n",
      "o\n",
      "n\n",
      "c\n",
      "*\n",
      "*\n",
      "*\n",
      "----------------------------\n",
      "Enter the letter you guessed: e\n",
      "----------------------------\n",
      "c\n",
      "o\n",
      "n\n",
      "c\n",
      "e\n",
      "*\n",
      "*\n",
      "----------------------------\n",
      "Enter the letter you guessed: p\n",
      "----------------------------\n",
      "c\n",
      "o\n",
      "n\n",
      "c\n",
      "e\n",
      "p\n",
      "*\n",
      "----------------------------\n",
      "Enter the letter you guessed: t\n",
      "----------------------------\n",
      "c\n",
      "o\n",
      "n\n",
      "c\n",
      "e\n",
      "p\n",
      "t\n",
      "----------------------------\n",
      "You Win\n",
      "Predicted Word:  concept\n",
      "----------------------------\n"
     ]
    }
   ],
   "source": [
    "number = len(wordToGuess) - 1\n",
    "print(\"the number of letters to guess: \", number + 1)\n",
    "print(\"----------------------------\")\n",
    "\n",
    "counter = 0\n",
    "claim = 12\n",
    "guess = ''\n",
    "\n",
    "while True:\n",
    "     \n",
    "    failed = 0\n",
    "    \n",
    "    for char in wordToGuess: \n",
    "        if char in guess: \n",
    "            print(char)\n",
    "             \n",
    "        else: \n",
    "            print(\"*\")\n",
    "             \n",
    "            failed += 1\n",
    "             \n",
    " \n",
    "    if failed == 0:\n",
    "\n",
    "        print(\"----------------------------\")\n",
    "        print(\"You Win\") \n",
    "        print(\"Predicted Word: \", wordToGuess)\n",
    "        print(\"----------------------------\")\n",
    "        break\n",
    "     \n",
    "    \n",
    "    print(\"----------------------------\")\n",
    "    letter = input(\"Enter the letter you guessed: \")\n",
    "    print(\"----------------------------\")\n",
    "    \n",
    "    guess += letter \n",
    "    \n",
    "    if letter not in wordToGuess:\n",
    "         \n",
    "        claim -= 1\n",
    "    \n",
    "        print(\"Your remaining guesses\", claim)\n",
    "        print(\"----------------------------\")\n",
    "         \n",
    "        if claim == 0:\n",
    "            print(\"You Loose\")\n",
    "            break\n"
   ]
  }
 ],
 "metadata": {
  "kernelspec": {
   "display_name": "Python 3",
   "language": "python",
   "name": "python3"
  },
  "language_info": {
   "codemirror_mode": {
    "name": "ipython",
    "version": 3
   },
   "file_extension": ".py",
   "mimetype": "text/x-python",
   "name": "python",
   "nbconvert_exporter": "python",
   "pygments_lexer": "ipython3",
   "version": "3.7.9"
  }
 },
 "nbformat": 4,
 "nbformat_minor": 4
}
