{
 "cells": [
  {
   "cell_type": "markdown",
   "metadata": {},
   "source": [
    "### Input Data"
   ]
  },
  {
   "cell_type": "code",
   "execution_count": 36,
   "metadata": {},
   "outputs": [
    {
     "name": "stdout",
     "output_type": "stream",
     "text": [
      "Name: İbrahim Can\n",
      "Surname: Erdoğan\n",
      "Date Of Birth: 2000\n"
     ]
    }
   ],
   "source": [
    "name = input(\"Name: \")\n",
    "surname = input(\"Surname: \")\n",
    "dateOfBirth = int(input(\"Date Of Birth: \"))"
   ]
  },
  {
   "cell_type": "markdown",
   "metadata": {},
   "source": [
    "### List"
   ]
  },
  {
   "cell_type": "code",
   "execution_count": 37,
   "metadata": {},
   "outputs": [],
   "source": [
    "userList = [name, surname, dateOfBirth]"
   ]
  },
  {
   "cell_type": "markdown",
   "metadata": {},
   "source": [
    "### Print User Data"
   ]
  },
  {
   "cell_type": "code",
   "execution_count": 38,
   "metadata": {},
   "outputs": [
    {
     "name": "stdout",
     "output_type": "stream",
     "text": [
      "İbrahim Can\n",
      "Erdoğan\n",
      "2000\n"
     ]
    }
   ],
   "source": [
    "for i in range(len(userList)):\n",
    "    print(f'{userList[i]}')"
   ]
  },
  {
   "cell_type": "markdown",
   "metadata": {},
   "source": [
    "### If"
   ]
  },
  {
   "cell_type": "code",
   "execution_count": 39,
   "metadata": {},
   "outputs": [
    {
     "name": "stdout",
     "output_type": "stream",
     "text": [
      "You can go out to the street\n"
     ]
    }
   ],
   "source": [
    "import datetime\n",
    "\n",
    "birthYear = userList[len(userList) - 1]\n",
    "\n",
    "now = datetime.datetime.now()\n",
    "thisYear = now.year\n",
    "\n",
    "age = thisYear - birthYear\n",
    "\n",
    "if age > 18:\n",
    "    print(\"You can go out to the street\")\n",
    "elif age < 18:\n",
    "    print(\"You can't go out because it's too dangerous\")"
   ]
  }
 ],
 "metadata": {
  "kernelspec": {
   "display_name": "Python 3",
   "language": "python",
   "name": "python3"
  },
  "language_info": {
   "codemirror_mode": {
    "name": "ipython",
    "version": 3
   },
   "file_extension": ".py",
   "mimetype": "text/x-python",
   "name": "python",
   "nbconvert_exporter": "python",
   "pygments_lexer": "ipython3",
   "version": "3.7.9"
  }
 },
 "nbformat": 4,
 "nbformat_minor": 4
}
